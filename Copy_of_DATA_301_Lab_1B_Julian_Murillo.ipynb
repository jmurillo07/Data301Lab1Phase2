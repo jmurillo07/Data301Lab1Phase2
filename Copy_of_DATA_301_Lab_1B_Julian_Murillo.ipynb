{
  "nbformat": 4,
  "nbformat_minor": 0,
  "metadata": {
    "kernelspec": {
      "display_name": "Python 3",
      "language": "python",
      "name": "python3"
    },
    "language_info": {
      "codemirror_mode": {
        "name": "ipython",
        "version": 3
      },
      "file_extension": ".py",
      "mimetype": "text/x-python",
      "name": "python",
      "nbconvert_exporter": "python",
      "pygments_lexer": "ipython3",
      "version": "3.6.4"
    },
    "colab": {
      "name": "Copy of DATA 301 Lab 1B - Julian Murillo",
      "provenance": [],
      "collapsed_sections": []
    }
  },
  "cells": [
    {
      "cell_type": "markdown",
      "metadata": {
        "id": "uQm3Aekkc8kE"
      },
      "source": [
        "# Explore the In Class Survey\n",
        "\n",
        "During the first class, you filled out the [first-day survey](https://docs.google.com/forms/d/e/1FAIpQLSczqKwzkye0RP8byLMxzj1Br3kC_YUdVGLWmMXX6VND99ivWg/viewform). In this lab, you will explore [the responses](https://docs.google.com/spreadsheets/d/1K9rfAscLESbwvovOc1aD3K6PFgdqkVRbaFHeD-UMTSc/edit?usp=sharing).\n",
        "\n",
        "Download the spreadsheet from the link above, then read the data into a `pandas` `DataFrame` whose columns are the survey questions. Each row represents one student's response to the questions."
      ]
    },
    {
      "cell_type": "markdown",
      "metadata": {
        "id": "k54rkU7Ec8kO"
      },
      "source": [
        "## Question 1\n",
        "\n",
        "Make a graphic that visualizes the favorite colors of students in DATA 301. Explain what you see.\n",
        "\n",
        "(_Hint:_ You might have to clean the data a bit first.)"
      ]
    },
    {
      "cell_type": "code",
      "metadata": {
        "id": "Ym53WixOc8kL",
        "colab": {
          "base_uri": "https://localhost:8080/",
          "height": 306
        },
        "outputId": "a6dd1c31-87d7-47ee-990a-10413996d9fb"
      },
      "source": [
        "import pandas as pd\n",
        "\n",
        "sheet_url = \"https://docs.google.com/spreadsheets/d/1K9rfAscLESbwvovOc1aD3K6PFgdqkVRbaFHeD-UMTSc/edit#gid=970845822\"\n",
        "url_1 = sheet_url.replace(\"/edit#gid=\", \"/export?format=csv&gid=\")\n",
        "df_responses = pd.read_csv(url_1)\n",
        "\n",
        "color_counts = df_responses[\"What is your favorite color?\"].value_counts()\n",
        "color_counts\n",
        "\n",
        "#cleaning data -> moved certain colors into more umbrella colors (ex. teal -> blue)\n",
        "\n",
        "def clean_data(c):\n",
        "  if c.__contains__(\"blue\") | c.__contains__(\"Blue\") | c.__contains__(\"Navy\"):\n",
        "    return \"Blue\"\n",
        "  if c.__contains__(\"green\") | c.__contains__(\"Green\") | c.__contains__(\"turquoise\") | c.__contains__(\"Teal\"):\n",
        "    return \"Green\"\n",
        "  if c.__contains__(\"Pink\") | c.__contains__(\"pink\"):\n",
        "    return \"Pink\"\n",
        "  if c.__contains__(\"Purple\") | c.__contains__(\"purple\") | c.__contains__(\"Magenta\"):\n",
        "    return \"Purple\"\n",
        "  if c.__contains__(\"Black\") | c.__contains__(\"black\"):\n",
        "    return \"Black\"\n",
        "  if c.__contains__(\"Red\") | c.__contains__(\"red\"):\n",
        "    return \"Red\"\n",
        "  if c.__contains__(\"Gray\") | c.__contains__(\"grey\"):\n",
        "    return \"Grey\"\n",
        "  \n",
        "  return c\n",
        "\n",
        "df_responses[\"What is your favorite color?\"] = df_responses['What is your favorite color?'].map(clean_data)\n",
        "\n",
        "color_counts = df_responses[\"What is your favorite color?\"].value_counts()\n",
        "color_counts.plot.bar()\n"
      ],
      "execution_count": null,
      "outputs": [
        {
          "output_type": "execute_result",
          "data": {
            "text/plain": [
              "<matplotlib.axes._subplots.AxesSubplot at 0x7f457b834690>"
            ]
          },
          "metadata": {},
          "execution_count": 33
        },
        {
          "output_type": "display_data",
          "data": {
            "image/png": "[encoded data removed]",
            "text/plain": [
              "<Figure size 432x288 with 1 Axes>"
            ]
          },
          "metadata": {
            "needs_background": "light"
          }
        }
      ]
    },
    {
      "cell_type": "markdown",
      "metadata": {
        "id": "fCYgs1_kc8kN"
      },
      "source": [
        "Blue is the most popular favorite color. The more neutral/dark colors of grey and black are the least popular among the sample data set given."
      ]
    },
    {
      "cell_type": "markdown",
      "metadata": {
        "id": "EDUBQeggc8kK"
      },
      "source": [
        "## Question 2\n",
        "\n",
        "Is there a relationship between the number of siblings a student has, and whether or not they live in SLO?\n",
        "\n",
        "Make a visualization to address this question, and discuss the result."
      ]
    },
    {
      "cell_type": "code",
      "metadata": {
        "id": "TpDoV7rvc8kO",
        "colab": {
          "base_uri": "https://localhost:8080/",
          "height": 294
        },
        "outputId": "e02103bb-f810-469c-9347-2dd33be0102a"
      },
      "source": [
        "ct_sibling_housing = pd.crosstab(df_responses[\"How many siblings do you have?\"], df_responses[\"Where are you living this quarter?\"])\n",
        "ct_sibling_housing.plot.bar(stacked = True)"
      ],
      "execution_count": null,
      "outputs": [
        {
          "output_type": "execute_result",
          "data": {
            "text/plain": [
              "<matplotlib.axes._subplots.AxesSubplot at 0x7f457b0199d0>"
            ]
          },
          "metadata": {},
          "execution_count": 36
        },
        {
          "output_type": "display_data",
          "data": {
            "image/png": "[encoded data removed]",
            "text/plain": [
              "<Figure size 432x288 with 1 Axes>"
            ]
          },
          "metadata": {
            "needs_background": "light"
          }
        }
      ]
    },
    {
      "cell_type": "markdown",
      "metadata": {
        "id": "xS8tUCb8c8kQ"
      },
      "source": [
        "For the most part single children predominantly live outside of SLO, with just over 60 percent of 301 students with one sibling live off campus but in SLO, while this ratio dropping to more around 50% when students have 2 siblings. The trend I am seeing from this data is that the more siblings a student has, the more likely that they live outside of SLO, while also it seems that only-child students also are very likely to reside outside of SLO."
      ]
    },
    {
      "cell_type": "markdown",
      "metadata": {
        "id": "OWml6cxtc8kR"
      },
      "source": [
        "## Question 3\n",
        "\n",
        "You were asked to guess how many golf balls fit into a standard-sized school bus.  This is actually a famous Google interview question!  The best answer I could find online is [here](https://www.quora.com/How-many-golf-balls-can-fit-into-a-school-bus).\n",
        "\n",
        "How did the different subgroups in the class do on this question?  That is, can you find an interesting relationship between the golf ball numbers guess and any of the other variables in this dataset?\n",
        "\n",
        "(_Hint:_ There are many reasonable approaches to this problem. You will get full credit for any reasonable approach, as long as you carefully justify it.)"
      ]
    },
    {
      "cell_type": "code",
      "metadata": {
        "id": "JTnwnsjZc8kS",
        "colab": {
          "base_uri": "https://localhost:8080/",
          "height": 303
        },
        "outputId": "209bb9a8-47c8-429d-822a-4e27da293dd3"
      },
      "source": [
        "ct_golf_art = pd.crosstab(df_responses[\"right answer\"], df_responses[\"Do you consider yourself artistic?\"])\n",
        "\n",
        "def right_answer(c):\n",
        "  diff = c - 1180000\n",
        "  if abs(c) < 200000:\n",
        "    return \"Right\"\n",
        "  return \"False\"\n",
        "\n",
        "df_responses[\"right answer\"] = df_responses[\"Suppose you wanted to fill an average-sized school bus entirely with golf balls.  How many golf balls do you think you would need?\"].map(right_answer)\n",
        "df_responses[\"right answer\"].value_counts()\n",
        "\n",
        "ct_golf_art.T.plot.bar()\n",
        "\n",
        "# I chose to count a correct answer to be within .2 million of the \"correct\" one taken from Quorra\n"
      ],
      "execution_count": null,
      "outputs": [
        {
          "output_type": "execute_result",
          "data": {
            "text/plain": [
              "<matplotlib.axes._subplots.AxesSubplot at 0x7f45777987d0>"
            ]
          },
          "metadata": {},
          "execution_count": 72
        },
        {
          "output_type": "display_data",
          "data": {
            "image/png": "[encoded data removed]",
            "text/plain": [
              "<Figure size 432x288 with 1 Axes>"
            ]
          },
          "metadata": {
            "needs_background": "light"
          }
        }
      ]
    },
    {
      "cell_type": "markdown",
      "metadata": {
        "id": "FMb6JbDcc8kU"
      },
      "source": [
        "I find an interesting relationship between \"artistic\" students and whether or not they were relatively near to the correct answer supplied from Quorra. There is a higher ratio of student who got the answer \"correct\" who were not artistic versus those who were.\n",
        "\n"
      ]
    },
    {
      "cell_type": "markdown",
      "metadata": {
        "id": "rlclwdA0pGb0"
      },
      "source": [
        "## Question 4\n",
        "\n",
        "Write and answer your own question using this data set.\n",
        "\n",
        "Question: Is there any relationship between whether a student considers themselves as a sport fan and if they consider themselves as artistic? Please create a visualization of the relationship between the two student attributes."
      ]
    },
    {
      "cell_type": "code",
      "metadata": {
        "id": "-DGR6Q-QpMls",
        "colab": {
          "base_uri": "https://localhost:8080/",
          "height": 303
        },
        "outputId": "67b9bd93-c4a6-46ce-b431-cfde2c949199"
      },
      "source": [
        "ct_sports_art = pd.crosstab(df_responses[\"Do you consider yourself a sports fan?\"], df_responses[\"Do you consider yourself artistic?\"])\n",
        "ct_sports_art.plot.bar(stacked = True)"
      ],
      "execution_count": null,
      "outputs": [
        {
          "output_type": "execute_result",
          "data": {
            "text/plain": [
              "<matplotlib.axes._subplots.AxesSubplot at 0x7f4579b74090>"
            ]
          },
          "metadata": {},
          "execution_count": 54
        },
        {
          "output_type": "display_data",
          "data": {
            "image/png": "[encoded data removed]",
            "text/plain": [
              "<Figure size 432x288 with 1 Axes>"
            ]
          },
          "metadata": {
            "needs_background": "light"
          }
        }
      ]
    },
    {
      "cell_type": "markdown",
      "source": [
        "It seems that a slight majority of the class did not identify as a sport fan, while it also seems that a slight majority also didn't identify as artistic as well. Between the two variables, it seems that a there is slightly greater chance that you do not consider yourself as artistic if you elected to claim that you were a sports fan."
      ],
      "metadata": {
        "id": "o5Q9qiwExfXD"
      }
    }
  ]
}